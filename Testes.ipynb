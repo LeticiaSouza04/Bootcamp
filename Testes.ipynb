{
  "nbformat": 4,
  "nbformat_minor": 0,
  "metadata": {
    "colab": {
      "provenance": [],
      "include_colab_link": true
    },
    "kernelspec": {
      "name": "python3",
      "display_name": "Python 3"
    },
    "language_info": {
      "name": "python"
    }
  },
  "cells": [
    {
      "cell_type": "markdown",
      "metadata": {
        "id": "view-in-github",
        "colab_type": "text"
      },
      "source": [
        "<a href=\"https://colab.research.google.com/github/LeticiaSouza04/Bootcamp/blob/main/Testes.ipynb\" target=\"_parent\"><img src=\"https://colab.research.google.com/assets/colab-badge.svg\" alt=\"Open In Colab\"/></a>"
      ]
    },
    {
      "cell_type": "code",
      "execution_count": 2,
      "metadata": {
        "id": "Ux54uT2VFdsI",
        "colab": {
          "base_uri": "https://localhost:8080/"
        },
        "outputId": "580c860e-0bc4-4fa8-b1e8-c239a2c51f55"
      },
      "outputs": [
        {
          "output_type": "stream",
          "name": "stdout",
          "text": [
            "Ola\n"
          ]
        }
      ],
      "source": [
        "print(\"Ola\")"
      ]
    },
    {
      "cell_type": "code",
      "source": [
        "print(\"Tudo bem?\")"
      ],
      "metadata": {
        "id": "OB95aIA3G_K3",
        "colab": {
          "base_uri": "https://localhost:8080/"
        },
        "outputId": "014308df-24fd-47e7-cf40-3b838678fa25"
      },
      "execution_count": 1,
      "outputs": [
        {
          "output_type": "stream",
          "name": "stdout",
          "text": [
            "Tudo bem?\n"
          ]
        }
      ]
    },
    {
      "cell_type": "markdown",
      "source": [
        "Teste aula 1\n"
      ],
      "metadata": {
        "id": "rgeEINDCIx0_"
      }
    }
  ]
}